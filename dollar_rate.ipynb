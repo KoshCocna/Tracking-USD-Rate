{
 "cells": [
  {
   "cell_type": "code",
   "execution_count": 11,
   "metadata": {},
   "outputs": [],
   "source": [
    "import requests\n",
    "from bs4 import BeautifulSoup\n",
    "from time import sleep\n",
    "import pandas as pd\n",
    "from datetime import datetime\n",
    "\n",
    "data = []\n",
    "\n",
    "url = \"https://www.vl.ru/dengi/\"\n",
    "try:\n",
    "    r = requests.get(url)\n",
    "    sleep(3)\n",
    "except:\n",
    "    print('Failed')\n",
    "\n",
    "soup = BeautifulSoup(r.text, 'lxml')\n",
    "\n",
    "raw_rate_info = soup.find('tbody', class_='rates-desktop__content')\n",
    "\n",
    "dollar_rate_infos = raw_rate_info.findAll('tr', class_='rates-desktop__table-row')\n",
    "\n",
    "for dollar_rate_info in dollar_rate_infos:\n",
    "    try:\n",
    "        bank_name = dollar_rate_info.find('a', class_='link rates-desktop__bank-name').text\n",
    "    except:\n",
    "        bank_name = '-'\n",
    "    try:\n",
    "        rate_buy_which = dollar_rate_info.find('td', class_='rates-desktop__table-cell').get('data-currency')\n",
    "        if rate_buy_which == 'USD':\n",
    "            rate_buy = dollar_rate_info.find('td', class_='rates-desktop__table-cell').get('data-buy')\n",
    "            rate_sell = dollar_rate_info.find('td', class_='rates-desktop__table-cell').get('data-sell')\n",
    "    except:\n",
    "        rate_buy = '-'\n",
    "        rate_sell = '-'\n",
    "    try:\n",
    "        bank_address = dollar_rate_info.find('a', class_='link rates-desktop__bank-name').get('href')\n",
    "    except:\n",
    "        bank_address = '-' \n",
    "    try:\n",
    "        phone_number = dollar_rate_info.find('span', class_='icon icon_phone-desktop rates-desktop__bank-icon js-tooltip').get('data-title')\n",
    "    except:\n",
    "        phone_number = '-'\n",
    "    \n",
    "    data.append([bank_name, rate_buy, rate_sell, phone_number, bank_address])\n",
    "\n",
    "data = sorted(data,key=lambda l:l[1], reverse=True)    \n",
    "header = ['은행이름', 'USD구입가격', 'USD판매가격', '전화번호', '은행주소']\n",
    "now = datetime.now()\n",
    "dt_string = now.strftime(\"%Y-%m-%d---%H-%M-%S\")\n",
    "\n",
    "df = pd.DataFrame(data, columns=header)\n",
    "\n",
    "#excel_file_name = f\"오늘의 USD시세{dt_string}.xlsx\"\n",
    "#df.to_excel(excel_file_name)\n",
    "\n",
    "csv_file_name = f\"오늘의 USD시세{dt_string}.csv\"\n",
    "df.to_csv(csv_file_name, sep=';',encoding='utf8')\n"
   ]
  }
 ],
 "metadata": {
  "interpreter": {
   "hash": "47761d7cb0c4c8cd6bf575e4d492a0f2d5c92794821404628f7a524f5b8e89b6"
  },
  "kernelspec": {
   "display_name": "Python 3.10.0 64-bit",
   "language": "python",
   "name": "python3"
  },
  "language_info": {
   "codemirror_mode": {
    "name": "ipython",
    "version": 3
   },
   "file_extension": ".py",
   "mimetype": "text/x-python",
   "name": "python",
   "nbconvert_exporter": "python",
   "pygments_lexer": "ipython3",
   "version": "3.9.7"
  }
 },
 "nbformat": 4,
 "nbformat_minor": 5
}
